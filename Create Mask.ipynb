{
 "cells": [
  {
   "cell_type": "code",
   "execution_count": 53,
   "metadata": {},
   "outputs": [],
   "source": [
    "from PIL import Image, ImageDraw\n",
    "import cv2\n",
    "import numpy as np\n",
    "from matplotlib import pyplot as plt\n",
    "import pandas as pd\n",
    "import warnings\n",
    "import os\n",
    "from scipy.io import loadmat\n",
    "warnings.filterwarnings(\"ignore\")"
   ]
  },
  {
   "cell_type": "code",
   "execution_count": 54,
   "metadata": {},
   "outputs": [],
   "source": [
    "# masks generated for binrushed\n",
    "def get_mask(file_path):\n",
    "    img = cv2.imread(file_path)\n",
    "    img_grey = cv2.cvtColor(img,cv2.COLOR_BGR2GRAY)\n",
    "    edged = cv2.Canny(img_grey, 60, 200)\n",
    "    contours, hierarchy = cv2.findContours(edged,cv2.RETR_CCOMP, cv2.CHAIN_APPROX_NONE)\n",
    "    empty = np.zeros(img.shape[:2])\n",
    "#     print(type(img_grey))\n",
    "#     empty = Image.new('L', tuple(img_grey.shape[1::-1]))\n",
    "    outer_ind = 0\n",
    "    for i, cont in enumerate(contours):\n",
    "        if cv2.contourArea(cont) > 2500 and cv2.contourArea(cont) < 20000:\n",
    "            inner_ind = i\n",
    "        if cv2.contourArea(cont) > cv2.contourArea(contours[outer_ind]):\n",
    "            outer_ind = i\n",
    "    \n",
    "    cv2.drawContours(empty, contours, outer_ind, 1, cv2.FILLED) \n",
    "#     cv2.drawContours(empty, contours, outer_ind, 1, cv2.FILLED) \n",
    "\n",
    "    try:\n",
    "        cv2.drawContours(empty, contours, inner_ind, 2, cv2.FILLED)\n",
    "#         cv2.drawContours(empty, contours, inner_ind, 2, cv2.FILLED) \n",
    "        return empty\n",
    "    except:\n",
    "        print('No mask found!')\n",
    "        return None\n",
    "    "
   ]
  },
  {
   "cell_type": "code",
   "execution_count": 10,
   "metadata": {
    "scrolled": true
   },
   "outputs": [],
   "source": [
    "folder = r'C:\\Users\\sauma\\Documents\\Glaucoma Research\\BinRushed\\BinRushed1-Corrected'\n",
    "mask_folder = r'C:\\Users\\sauma\\Documents\\Glaucoma Research\\BinRushed\\BinRushed1-Correct_Masks'\n",
    "for img in os.listdir(folder):\n",
    "    path = os.path.join(folder, img)\n",
    "    mask = get_mask(path)\n",
    "    if mask is not None:\n",
    "        im = Image.fromarray(mask.astype('uint8'), 'L')\n",
    "        output_path = os.path.join(mask_folder, img)[:-4] + '.png'\n",
    "        im.save(output_path)\n",
    "        "
   ]
  },
  {
   "cell_type": "code",
   "execution_count": 5,
   "metadata": {},
   "outputs": [],
   "source": [
    "import json\n",
    "# G1020 Masks\n",
    "def json_mask(img_path, json_path):\n",
    "    image = cv2.imread(img_path)\n",
    "    plt.imshow(image)\n",
    "    plt.show()\n",
    "    empty_mask = Image.new('L', tuple(image.shape[1::-1]))\n",
    "    with open(json_path) as f:\n",
    "        data = json.load(f)\n",
    "    shapes = data['shapes']\n",
    "    for i, item in enumerate(data['shapes']):\n",
    "        label = item['label']\n",
    "        if label == 'disc':\n",
    "            point_disc = item['points']\n",
    "        elif label == 'cup':\n",
    "            point_cup = item['points']\n",
    "    print(point_cup)\n",
    "    try:\n",
    "        polygon=tuple(map(tuple, point_disc))\n",
    "        ImageDraw.Draw(empty_mask).polygon(polygon, outline=1, fill=1)\n",
    "    except:\n",
    "        pass\n",
    "    try:\n",
    "        polygon = tuple(map(tuple, point_cup))\n",
    "        ImageDraw.Draw(empty_mask).polygon(polygon, outline=2, fill=2)\n",
    "    except:\n",
    "        return empty_mask\n",
    "    return empty_mask"
   ]
  },
  {
   "cell_type": "code",
   "execution_count": 12,
   "metadata": {},
   "outputs": [],
   "source": [
    "folder = r'C:\\Users\\sauma\\Documents\\Glaucoma Research\\G1020'\n",
    "mask_folder = r'C:\\Users\\sauma\\Documents\\Glaucoma Research\\G1020_Masks'\n",
    "for file in os.listdir(folder):\n",
    "    if file[-4:] == '.jpg':\n",
    "        img_path = os.path.join(folder, file)\n",
    "        json_path = os.path.join(folder, file[:-3]+'json')\n",
    "        mask = json_mask(img_path, json_path)\n",
    "#         mask.save(os.path.join(mask_folder, file[:-3]+'png'))\n",
    "        "
   ]
  },
  {
   "cell_type": "code",
   "execution_count": 36,
   "metadata": {},
   "outputs": [],
   "source": [
    "def drishti_mask(img_path, folder_path, name):\n",
    "    cup_bound = os.path.join(os.path.join(folder_path, 'AvgBoundary'), f'{name}_CupAvgBoundary.txt')\n",
    "    disc_bound = os.path.join(os.path.join(folder_path, 'AvgBoundary'), f'{name}_ODAvgBoundary.txt')\n",
    "    image = cv2.imread(img_path)\n",
    "    cup_points = pd.read_csv(cup_bound, sep=' ', header=None)\n",
    "    disc_points = pd.read_csv(disc_bound, sep=' ', header=None)\n",
    "    point_cup = []\n",
    "    for y, x in zip(cup_points[0], cup_points[1]):\n",
    "        point_cup.append([x, y])\n",
    "    point_disc = []\n",
    "    for y, x in zip(disc_points[0], disc_points[1]):\n",
    "        point_disc.append([x, y])\n",
    "        \n",
    "    empty_mask = Image.new('L', tuple(image.shape[1::-1]))\n",
    "    try:\n",
    "        polygon=tuple(map(tuple, point_disc))\n",
    "        ImageDraw.Draw(empty_mask).polygon(polygon, outline=1, fill=1)\n",
    "    except:\n",
    "        pass\n",
    "    try:\n",
    "        polygon = tuple(map(tuple, point_cup))\n",
    "        ImageDraw.Draw(empty_mask).polygon(polygon, outline=2, fill=2)\n",
    "    except:\n",
    "        return empty_mask\n",
    "    return empty_mask"
   ]
  },
  {
   "cell_type": "code",
   "execution_count": 38,
   "metadata": {},
   "outputs": [],
   "source": [
    "img_path = r'C:\\Users\\sauma\\Documents\\Glaucoma Research\\Drishti\\data\\DRISHTI_GS\\Drishti-GS1_files\\Training\\Images'\n",
    "folder_path = r'C:\\Users\\sauma\\Documents\\Glaucoma Research\\Drishti\\data\\DRISHTI_GS\\Drishti-GS1_files\\Training\\GT'\n",
    "out_folder = r'C:\\Users\\sauma\\Documents\\Glaucoma Research\\Drishti\\data\\DRISHTI_GS\\Drishti-GS1_files\\Training\\Masks'\n",
    "for img_name in os.listdir(folder_path):\n",
    "    full_folder_path = os.path.join(folder_path, img_name)\n",
    "    full_img_path = os.path.join(img_path, img_name+'.png')\n",
    "    mask = drishti_mask(full_img_path, full_folder_path, img_name)\n",
    "    mask.save(os.path.join(out_folder, img_name+'.png'))"
   ]
  },
  {
   "cell_type": "code",
   "execution_count": 46,
   "metadata": {},
   "outputs": [],
   "source": [
    "def origa_mask(mat_file):\n",
    "    mat = loadmat(mat_file)\n",
    "    return mat['mask']"
   ]
  },
  {
   "cell_type": "code",
   "execution_count": 52,
   "metadata": {},
   "outputs": [],
   "source": [
    "mask_folder = r'C:\\Users\\sauma\\Documents\\Glaucoma Research\\ORIGA\\Semi-automatic-annotations'\n",
    "new_folder = r'C:\\Users\\sauma\\Documents\\Glaucoma Research\\ORIGA\\Masks'\n",
    "for item in os.listdir(mask_folder):\n",
    "    if item[-3:] == 'mat':\n",
    "        mask = origa_mask(os.path.join(mask_folder, item))\n",
    "        cv2.imwrite(os.path.join(new_folder, item[:-3]+'png'), mask)"
   ]
  }
 ],
 "metadata": {
  "kernelspec": {
   "display_name": "Python 3",
   "language": "python",
   "name": "python3"
  },
  "language_info": {
   "codemirror_mode": {
    "name": "ipython",
    "version": 3
   },
   "file_extension": ".py",
   "mimetype": "text/x-python",
   "name": "python",
   "nbconvert_exporter": "python",
   "pygments_lexer": "ipython3",
   "version": "3.8.5"
  }
 },
 "nbformat": 4,
 "nbformat_minor": 4
}
